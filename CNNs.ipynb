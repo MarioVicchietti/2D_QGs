{
  "nbformat": 4,
  "nbformat_minor": 0,
  "metadata": {
    "colab": {
      "provenance": []
    },
    "kernelspec": {
      "name": "python3",
      "display_name": "Python 3"
    },
    "language_info": {
      "name": "python"
    }
  },
  "cells": [
    {
      "cell_type": "code",
      "execution_count": null,
      "metadata": {
        "id": "nMoEvj3LVc_r"
      },
      "outputs": [],
      "source": [
        "import numpy as np\n",
        "import keras\n",
        "from keras import layers\n",
        "\n",
        "num_classes = 10\n",
        "input_shape = (28, 28, 1)\n",
        "corruptions = ['brightness', 'canny_edges', 'dotted_line', 'fog', 'glass_blur', 'identity', 'impulse_noise', 'motion_blur', 'rotate', 'scale', 'shear', 'shot_noise', 'spatter', 'stripe', 'translate', 'zigzag']\n",
        "\n",
        "for c in corruptions:\n",
        "    x_train = np.load('C:/Users/User/Desktop/f_mnist_c/' + c + '/train_images.npy')\n",
        "    y_train = np.load('C:/Users/User/Desktop/f_mnist_c/' + c + '/train_labels.npy')\n",
        "    x_test =  np.load('C:/Users/User/Desktop/f_mnist_c/' + c + '/test_images.npy')\n",
        "    y_test =  np.load('C:/Users/User/Desktop/f_mnist_c/' + c + '/test_labels.npy')\n",
        "\n",
        "    x_train = x_train.astype(\"float32\") / 255\n",
        "    x_test = x_test.astype(\"float32\") / 255\n",
        "    x_train = np.expand_dims(x_train, -1)\n",
        "    x_test = np.expand_dims(x_test, -1)\n",
        "\n",
        "    y_train = keras.utils.to_categorical(y_train, num_classes)\n",
        "    y_test = keras.utils.to_categorical(y_test, num_classes)\n",
        "\n",
        "    model = keras.Sequential(\n",
        "        [\n",
        "            keras.Input(shape=input_shape),\n",
        "            layers.Conv2D(32, kernel_size=(3, 3), activation=\"relu\"),\n",
        "            layers.MaxPooling2D(pool_size=(2, 2)),\n",
        "            layers.Conv2D(64, kernel_size=(3, 3), activation=\"relu\"),\n",
        "            layers.MaxPooling2D(pool_size=(2, 2)),\n",
        "            layers.Flatten(),\n",
        "            layers.Dropout(0.5),\n",
        "            layers.Dense(num_classes, activation=\"softmax\"),\n",
        "        ]\n",
        "    )\n",
        "\n",
        "    model.compile(loss=\"categorical_crossentropy\", optimizer=\"adam\", metrics=[\"accuracy\"])\n",
        "    model.fit(x_train, y_train, batch_size=128, epochs=1, validation_split=0.1)\n",
        "\n",
        "    score = model.evaluate(x_test, y_test, verbose=0)\n",
        "    print(\"Test accuracy:\", score[1])\n",
        "    del(model)"
      ]
    }
  ]
}