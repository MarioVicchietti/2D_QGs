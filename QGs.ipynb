{
 "cells": [
  {
   "cell_type": "code",
   "execution_count": 10,
   "id": "4ede8a8f",
   "metadata": {},
   "outputs": [],
   "source": [
    "# IMPORT LIBRARY\n",
    "import numpy as np\n",
    "\n",
    "#######################################################################\n",
    "# DEFINE QGs MAPPING\n",
    "def QGs(I, rmax):\n",
    "    # PREPARE IMAGE SHAPE AND CALCULATE THE NUMBER OF QUANTILES\n",
    "    L1 = np.shape(I)[0] \n",
    "    L2 = np.shape(I)[1]\n",
    "    Q = int(round(2*pow(L1*L2, 1.0/3.0)))\n",
    "    quant = np.zeros(L1*L2, dtype = int)\n",
    "    \n",
    "    # CONSTRUCT VECTOR OF QUANTILES\n",
    "    X = np.copy(I)\n",
    "    X = np.reshape(X, (1, L1*L2))\n",
    "    a = int(np.floor(L1*L2/Q))\n",
    "    ind = np.zeros((1, L1*L2))\n",
    "    ind[0, :] = np.arange(np.shape(X)[1])\n",
    "    \n",
    "    # ASSOCIATE PIXELS TO QUANTILES\n",
    "    O = np.lexsort((ind, X))\n",
    "    aux = np.repeat(np.arange(Q), a)\n",
    "    aux = np.concatenate((aux, np.full(L1*L2 - len(aux), Q - 1)))\n",
    "    quant[O] = aux\n",
    "    \n",
    "    # CONSTRUCT W FOR EACH VALUE OF r USING MOORE NEIGHBORHOOD\n",
    "    W = np.zeros((Q, Q, rmax)) \n",
    "    i_v, j_v = np.indices((L1, L2))\n",
    "    k1 = i_v * L2 + j_v\n",
    "    for r in range(1, rmax + 1):\n",
    "        ii_o = np.array([-r, -r, -r, 0, 0, r, r, r])\n",
    "        jj_o = np.array([-r, 0, r, -r, r, -r, 0, r])\n",
    "        ii = i_v[:, :, None] + ii_o\n",
    "        jj = j_v[:, :, None] + jj_o\n",
    "        msk = (ii >= 0) & (ii < L1) & (jj >= 0) & (jj < L2)\n",
    "        ii = ii[msk]\n",
    "        jj = jj[msk]\n",
    "        k2 = ii * L2 + jj\n",
    "        k1_new = np.repeat(k1[:, :, None], 8, axis=2)[msk]\n",
    "        np.add.at(W[:, :, r - 1], (quant[k1_new], quant[k2]), 1)\n",
    "        np.add.at(W[:, :, r - 1], (quant[k2], quant[k1_new]), 1)\n",
    "    W = W/2\n",
    "    return W\n",
    "    \n",
    "#######################################################################\n",
    "# READ INPUT DATA\n",
    "X_train = np.load(\"path-to-xtrain.npy\")\n",
    "y_train = np.load(\"path-to-ytrain.npy\")\n",
    "X_test =  np.load(\"path-to-xtest.npy\")\n",
    "y_test =  np.load(\"path-to-ytest.npy\")\n",
    "\n",
    "#######################################################################\n",
    "# CONSTRUCT QGs FROM IMAGES USING rmax = 10\n",
    "W = QGs(X_train[:, :, 0], 10)"
   ]
  }
 ],
 "metadata": {
  "kernelspec": {
   "display_name": "Python [conda env:base] *",
   "language": "python",
   "name": "conda-base-py"
  },
  "language_info": {
   "codemirror_mode": {
    "name": "ipython",
    "version": 3
   },
   "file_extension": ".py",
   "mimetype": "text/x-python",
   "name": "python",
   "nbconvert_exporter": "python",
   "pygments_lexer": "ipython3",
   "version": "3.13.5"
  }
 },
 "nbformat": 4,
 "nbformat_minor": 5
}
